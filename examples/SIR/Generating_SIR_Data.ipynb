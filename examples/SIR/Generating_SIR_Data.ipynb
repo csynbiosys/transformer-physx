{
 "cells": [
  {
   "cell_type": "markdown",
   "metadata": {},
   "source": [
    "## Import libraries"
   ]
  },
  {
   "cell_type": "code",
   "execution_count": 12,
   "metadata": {},
   "outputs": [],
   "source": [
    "import pints\n",
    "import pints.toy\n",
    "import pints.plot\n",
    "import numpy as np\n",
    "import matplotlib.pyplot as plt\n",
    "import pints.toy as toy\n",
    "from pints.toy import ToyModel\n",
    "from scipy.integrate import odeint\n"
   ]
  },
  {
   "cell_type": "markdown",
   "metadata": {},
   "source": [
    "## SIR Model"
   ]
  },
  {
   "cell_type": "markdown",
   "metadata": {},
   "source": [
    "### Model Class"
   ]
  },
  {
   "cell_type": "code",
   "execution_count": 14,
   "metadata": {},
   "outputs": [],
   "source": [
    "class SIRModel(pints.ForwardModel, ToyModel):\n",
    "    r\"\"\"\n",
    "    The SIR model of infectious disease models the number of susceptible (S),\n",
    "    infected (I), and recovered (R) people in a population [1]_, [2]_.\n",
    "\n",
    "    The particular model given here is analysed in [3],_ and is described by\n",
    "    the following three-state ODE:\n",
    "\n",
    "    .. math::\n",
    "        \\dot{S} = -\\gamma S I\n",
    "\n",
    "        \\dot{I} = \\gamma S I - v I\n",
    "\n",
    "        \\dot{R} = v I\n",
    "\n",
    "    Where the parameters are ``gamma`` (infection rate), and ``v``, recovery\n",
    "    rate. In addition, we assume the initial value of S, ``S0``, is unknwon,\n",
    "    leading to a three parameter model ``(gamma, v, S0)``.\n",
    "\n",
    "    The number of infected people and recovered people are observable, making\n",
    "    this a 2-output system. S can be thought of as an unknown number of\n",
    "    susceptible people within a larger population.\n",
    "\n",
    "    The model does not account for births and deaths, which are assumed to\n",
    "    happen much slower than the spread of the (non-lethal) disease.\n",
    "\n",
    "    Real data is included via :meth:`suggested_values`, which was taken from\n",
    "    [3]_, [4]_, [5]_.\n",
    "\n",
    "    Extends :class:`pints.ForwardModel`, `pints.toy.ToyModel`.\n",
    "\n",
    "    Parameters\n",
    "    ----------\n",
    "    y0\n",
    "        The system's initial state, must have 3 entries all >=0.\n",
    "\n",
    "    References\n",
    "    ----------\n",
    "    .. [1] A Contribution to the Mathematical Theory of Epidemics. Kermack,\n",
    "           McKendrick (1927) Proceedings of the Royal Society A.\n",
    "           https://doi.org/10.1098/rspa.1927.0118\n",
    "\n",
    "    .. [2] https://en.wikipedia.org/wiki/Compartmental_models_in_epidemiology\n",
    "\n",
    "    .. [3] Approximate Bayesian computation scheme for parameter inference and\n",
    "           model selection in dynamical systems. Toni, Welch, Strelkowa, Ipsen,\n",
    "           Stumpf (2009) J. R. Soc. Interface.\n",
    "           https://doi.org/10.1098/rsif.2008.0172\n",
    "\n",
    "    .. [4] A mathematical model of common-cold epidemics on Tristan da Cunha.\n",
    "           Hammond, Tyrrell (1971) Epidemiology & Infection.\n",
    "           https://doi.org/10.1017/S0022172400021677\n",
    "\n",
    "    .. [5] Common colds on Tristan da Cunha. Shybli, Gooch, Lewis, Tyrell\n",
    "           (1971) Epidemiology & Infection.\n",
    "           https://doi.org/10.1017/S0022172400021483\n",
    "    \"\"\"\n",
    "\n",
    "    def __init__(self, y0=None):\n",
    "        super(SIRModel, self).__init__()\n",
    "\n",
    "        # Check initial values\n",
    "        if y0 is None:\n",
    "            # Toni et al.:\n",
    "            self._y0 = np.array([38, 1, 0])\n",
    "        else:\n",
    "            self._y0 = np.array(y0, dtype=float)\n",
    "            if len(self._y0) != 3:\n",
    "                raise ValueError('Initial value must have size 3.')\n",
    "            if np.any(self._y0 < 0):\n",
    "                raise ValueError('Initial states can not be negative.')\n",
    "\n",
    "\n",
    "\n",
    "    def n_outputs(self):\n",
    "        \"\"\" See :meth:`pints.ForwardModel.n_outputs()`. \"\"\"\n",
    "        return 3\n",
    "\n",
    "\n",
    "\n",
    "\n",
    "\n",
    "    def n_parameters(self):\n",
    "        \"\"\" See :meth:`pints.ForwardModel.n_parameters()`. \"\"\"\n",
    "        return 3\n",
    "\n",
    "\n",
    "\n",
    "    def _rhs(self, y, t, gamma, v):\n",
    "        \"\"\"\n",
    "        Calculates the model RHS.\n",
    "        \"\"\"\n",
    "        dS = -gamma * y[0] * y[1]\n",
    "        dI = gamma * y[0] * y[1] - v * y[1]\n",
    "        dR = v * y[1]\n",
    "        return np.array([dS, dI, dR])\n",
    "\n",
    "\n",
    "\n",
    "    def simulate(self, parameters, times):\n",
    "        \"\"\" See :meth:`pints.ForwardModel.simulate()`. \"\"\"\n",
    "        gamma, v, S0 = parameters\n",
    "        y0 = np.array(self._y0, copy=True)\n",
    "        y0[0] = S0\n",
    "        y = odeint(self._rhs, y0, times, (gamma, v))\n",
    "        return y[:, :]\n",
    "\n",
    "\n",
    "\n",
    "\n",
    "\n",
    "    def suggested_parameters(self):\n",
    "        \"\"\"\n",
    "        Returns a suggested set of parameters for this toy model.\n",
    "        \"\"\"\n",
    "        # Guesses based on Toni et al.:\n",
    "        return [0.026, 0.285, 38]\n",
    "\n",
    "\n",
    "\n",
    "\n",
    "\n",
    "    def suggested_times(self):\n",
    "        \"\"\"\n",
    "        Returns a suggested set of simulation times for this toy model.\n",
    "        \"\"\"\n",
    "        # Toni et al.:\n",
    "        return np.arange(1, 22)\n",
    "\n",
    "\n",
    "\n",
    "\n",
    "\n",
    "    def suggested_values(self):\n",
    "        \"\"\"\n",
    "        Returns the data from a common-cold outbreak on the remote island of\n",
    "        Tristan da Cunha, as given in [3]_, [4]_, [5]_.\n",
    "        \"\"\"\n",
    "        # Toni et al.\n",
    "        return np.array([\n",
    "            [1, 0],     # day 1\n",
    "            [1, 0],\n",
    "            [3, 0],\n",
    "            [7, 0],\n",
    "            [6, 5],     # day 5\n",
    "            [10, 7],\n",
    "            [13, 8],\n",
    "            [13, 13],\n",
    "            [14, 13],\n",
    "            [14, 16],    # day 10\n",
    "            [17, 17],\n",
    "            [10, 24],\n",
    "            [6, 30],\n",
    "            [6, 31],\n",
    "            [4, 33],    # day 15\n",
    "            [3, 34],\n",
    "            [1, 36],\n",
    "            [1, 36],\n",
    "            [1, 36],\n",
    "            [1, 36],    # day 20\n",
    "            [0, 37],    # day 21\n",
    "        ])"
   ]
  },
  {
   "cell_type": "code",
   "execution_count": 20,
   "metadata": {},
   "outputs": [
    {
     "name": "stdout",
     "output_type": "stream",
     "text": [
      "Parameters:\n",
      "[0.026, 0.285, 38]\n"
     ]
    },
    {
     "data": {
      "image/png": "[encoded data removed]",
      "text/plain": [
       "<Figure size 640x480 with 1 Axes>"
      ]
     },
     "metadata": {},
     "output_type": "display_data"
    }
   ],
   "source": [
    "y = [70, 5, 1]\n",
    "# Create a model\n",
    "model = SIRModel(y0=y)\n",
    "\n",
    "# Run a simulation\n",
    "parameters = model.suggested_parameters()\n",
    "times = model.suggested_times()\n",
    "values = model.simulate(parameters, times)\n",
    "\n",
    "print('Parameters:')\n",
    "print(parameters)\n",
    "\n",
    "# Plot the results\n",
    "plt.figure()\n",
    "plt.xlabel('Time')\n",
    "plt.ylabel('Population')\n",
    "plt.plot(times, values)\n",
    "plt.legend(['Susceptable','Infected', 'Recovered'])\n",
    "plt.show()"
   ]
  },
  {
   "cell_type": "markdown",
   "metadata": {},
   "source": [
    "## Mounting data"
   ]
  },
  {
   "cell_type": "markdown",
   "metadata": {},
   "source": [
    "### Google Cloud"
   ]
  },
  {
   "cell_type": "code",
   "execution_count": null,
   "metadata": {},
   "outputs": [],
   "source": [
    "## Google Drive\n",
    "#from google.colab import drive\n",
    "#drive.mount('/content/gdrive')"
   ]
  },
  {
   "cell_type": "code",
   "execution_count": null,
   "metadata": {},
   "outputs": [],
   "source": [
    "#%cd /content/gdrive/MyDrive/\n",
    "#%mkdir -p SyntheticData/SIR\n",
    "#%cd SyntheticData/SIR"
   ]
  },
  {
   "cell_type": "markdown",
   "metadata": {},
   "source": [
    "### Local Directory"
   ]
  },
  {
   "cell_type": "code",
   "execution_count": null,
   "metadata": {},
   "outputs": [],
   "source": [
    "import os\n",
    "os.makedirs(\"SyntheticData/SIR\", exist_ok=True)\n",
    "os.chdir(\"SyntheticData/SIR\")"
   ]
  },
  {
   "cell_type": "markdown",
   "metadata": {},
   "source": [
    "### Generating training and Validation data"
   ]
  },
  {
   "cell_type": "code",
   "execution_count": null,
   "metadata": {},
   "outputs": [],
   "source": [
    "# Generating unique combination for the SIR and model parameters\n",
    "# N is the total population (50 Million) where S+I+R=N\n",
    "# I is the number of people infected with the disease and I0 is between 1000 and 10000\n",
    "# R is the number of people who have recovered from the disease and R0 is between 500 and 5000\n",
    "# S = N - I - R\n",
    "# parameters = [gamma, v, S0]\n",
    "# gamma is the rate of infection between 0.0000002 and 0.000001\n",
    "# v is the rate of recovery between 0.05 and 0.15\n",
    "# S0 is the number of people who are susceptible to the disease at the beginning of the epidemic which is S\n",
    "\n",
    "# the combination should be unique and the number of unique combinations should be 1088\n",
    "\n",
    "# combination list\n",
    "combination = []\n",
    "# combination count\n",
    "count = 0\n",
    "# total population\n",
    "N = 50000000\n",
    "\n",
    "while count < 1088:\n",
    "    I0 = np.random.randint(1000, 10000)\n",
    "    R0 = np.random.randint(500, 5000)\n",
    "    S0 = N - I0 - R0\n",
    "    gamma = np.random.uniform(0.0000002, 0.000001)\n",
    "    v = np.random.uniform(0.05, 0.15)\n",
    "    c = [S0, I0, R0, gamma, v]\n",
    "    # check if the combination is not in combination list\n",
    "    if c not in combination:\n",
    "        combination.append(c)\n",
    "        count += 1\n",
    "    else:\n",
    "        continue\n",
    "\n",
    "\n"
   ]
  },
  {
   "cell_type": "code",
   "execution_count": null,
   "metadata": {},
   "outputs": [],
   "source": [
    "# simulate function that takes the combination item and returns the values\n",
    "def simulate(combination):\n",
    "    S0, I0, R0, gamma, v = combination\n",
    "    y0 = [S0, I0, R0]\n",
    "    model = SIRModel(y0=y0)\n",
    "    times = model.suggested_times()\n",
    "    values = model.simulate([gamma, v, S0], times)\n",
    "    return values"
   ]
  },
  {
   "cell_type": "code",
   "execution_count": null,
   "metadata": {},
   "outputs": [],
   "source": [
    "import h5py\n",
    "f = h5py.File('SIR_Training.hdf5', 'w')\n",
    "g = h5py.File('SIR_Validation.hdf5', 'w')\n",
    "for idx, c in enumerate(combination):\n",
    "    values = simulate(c)\n",
    "    if idx < 1024:\n",
    "        # save the dataset in the SIR_Training.hdf5 file\n",
    "        f.create_dataset(str(idx), data=values)\n",
    "    else:\n",
    "        # save the dataset in the SIR_Validation.hdf5 file\n",
    "        g.create_dataset(str(idx - 1024), data=values)\n",
    "f.close()\n",
    "g.close()\n",
    "\n"
   ]
  }
 ],
 "metadata": {
  "kernelspec": {
   "display_name": "base",
   "language": "python",
   "name": "python3"
  },
  "language_info": {
   "codemirror_mode": {
    "name": "ipython",
    "version": 3
   },
   "file_extension": ".py",
   "mimetype": "text/x-python",
   "name": "python",
   "nbconvert_exporter": "python",
   "pygments_lexer": "ipython3",
   "version": "3.11.5"
  }
 },
 "nbformat": 4,
 "nbformat_minor": 2
}
